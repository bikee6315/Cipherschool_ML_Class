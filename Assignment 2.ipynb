{
 "cells": [
  {
   "cell_type": "code",
   "execution_count": 24,
   "metadata": {},
   "outputs": [
    {
     "name": "stdout",
     "output_type": "stream",
     "text": [
      "Enter the size of tuple: 3\n",
      "Enter the elements of tuple: 4\n",
      "Enter the elements of tuple: 5\n",
      "Enter the elements of tuple: 6\n",
      "Lemgth of tuple is 3\n",
      "Sum of the elements of tuple is 15\n",
      "Largest element of tuple is 6\n",
      "Smallest element of tuple is 4\n"
     ]
    }
   ],
   "source": [
    "#Problem number 1\n",
    "\n",
    "#Create a list\n",
    "tup=list() \n",
    "\n",
    "size=int(input(\"Enter the size of tuple: \"))\n",
    "for i in range(0, size):\n",
    "    element=int(input(\"Enter the elements of tuple: \"))\n",
    "    tup.append(element)\n",
    "\n",
    "#Converts list to tuple\n",
    "tup=tuple(tup) \n",
    "print(\"Lemgth of tuple is\",len(tup))\n",
    "\n",
    "\n",
    "\n",
    "total=0;\n",
    "if(len(tup)==0):\n",
    "    print(\"Tuple is empty\")\n",
    "else:\n",
    "    for element in range(0, len(tup)):\n",
    "        total=total+tup[element]\n",
    "        \n",
    "print(\"Sum of the elements of tuple is\", total)\n",
    "\n",
    "\n",
    "large=tup[0]\n",
    "small=tup[0]\n",
    "\n",
    "for i in range(0, len(tup)):\n",
    "    if(tup[i]>large):\n",
    "        large=tup[i];\n",
    "    \n",
    "    if(tup[i]<small):\n",
    "        small=tup[i]\n",
    "\n",
    "print(\"Largest element of tuple is\", large)\n",
    "print(\"Smallest element of tuple is\", small)\n"
   ]
  },
  {
   "cell_type": "markdown",
   "metadata": {},
   "source": [
    "# Problem number 2\n",
    "\n",
    "age=list()\n",
    "for i in range (0, 3):\n",
    "    a=int(input(\"Enter the age of person:\"))\n",
    "    age.append(a)\n",
    "print(age)\n",
    "\n",
    "print(\"Youngest person's age is:\", min(age))\n",
    "print(\"Oldest person's age is:\", max(age))\n",
    "    \n"
   ]
  },
  {
   "cell_type": "code",
   "execution_count": 18,
   "metadata": {},
   "outputs": [
    {
     "name": "stdout",
     "output_type": "stream",
     "text": [
      "Enter the size of list: 3\n",
      "Enter the elements of list: 4\n",
      "Enter the elements of list: 5\n",
      "Enter the elements of list: 6\n",
      "List is [4, 5, 6]\n",
      "New list is [16, 25, 36]\n"
     ]
    }
   ],
   "source": [
    "#Problem Number 5\n",
    "\n",
    "number=[]\n",
    "size=int(input(\"Enter the size of list: \"))\n",
    "for i in range(0, size):\n",
    "    element=int(input(\"Enter the elements of list: \"))\n",
    "    number.append(element)\n",
    "print(\"List is\",number)\n",
    "\n",
    "new_list=[]\n",
    "for i in range(0, len(number)):\n",
    "    new=number[i]**2\n",
    "    new_list.append(new)\n",
    "print(\"New list is\", new_list)"
   ]
  },
  {
   "cell_type": "code",
   "execution_count": 16,
   "metadata": {},
   "outputs": [
    {
     "name": "stdout",
     "output_type": "stream",
     "text": [
      "Enter the number of rows and columns:3\n",
      "* \n",
      "\n",
      "* * \n",
      "\n",
      "* * * \n",
      "\n"
     ]
    }
   ],
   "source": [
    "#Problem number 4\n",
    "\n",
    "r_c=int(input(\"Enter the number of rows and columns:\"))\n",
    "for i in range(0, r_c):\n",
    "    for j in range(0, i+1):\n",
    "        print(\"*\", end=\" \")\n",
    "    print(\"\\n\")"
   ]
  },
  {
   "cell_type": "code",
   "execution_count": 22,
   "metadata": {},
   "outputs": [
    {
     "name": "stdout",
     "output_type": "stream",
     "text": [
      "Please enter the quantity: 17\n",
      "Total cost for the user after discount is: 1530.0\n"
     ]
    }
   ],
   "source": [
    "#Problem number 3\n",
    "\n",
    "quantity=int(input(\"Please enter the quantity: \"))\n",
    "cost=quantity*100\n",
    "\n",
    "if(cost<=1000):\n",
    "    print(\"Total cost for the user is:\", cost)\n",
    "\n",
    "else:\n",
    "    cost=cost-(0.1*cost)\n",
    "    print(\"Total cost for the user after discount is:\", cost)"
   ]
  },
  {
   "cell_type": "code",
   "execution_count": null,
   "metadata": {},
   "outputs": [],
   "source": []
  }
 ],
 "metadata": {
  "kernelspec": {
   "display_name": "Python 3",
   "language": "python",
   "name": "python3"
  },
  "language_info": {
   "codemirror_mode": {
    "name": "ipython",
    "version": 3
   },
   "file_extension": ".py",
   "mimetype": "text/x-python",
   "name": "python",
   "nbconvert_exporter": "python",
   "pygments_lexer": "ipython3",
   "version": "3.6.5"
  }
 },
 "nbformat": 4,
 "nbformat_minor": 2
}
